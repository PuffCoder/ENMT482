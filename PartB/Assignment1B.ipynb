{
 "cells": [
  {
   "cell_type": "code",
   "execution_count": null,
   "source": [],
   "outputs": [],
   "metadata": {}
  }
 ],
 "metadata": {
  "orig_nbformat": 4,
  "language_info": {
   "name": "python",
   "version": "3.9.1"
  },
  "kernelspec": {
   "name": "python3",
   "display_name": "Python 3.9.1 64-bit ('DataScienceStuff': venv)"
  },
  "interpreter": {
   "hash": "f0b48f2602ed6491a8cf11353402a2048567afab67c375fdb7738f79f7ccab59"
  }
 },
 "nbformat": 4,
 "nbformat_minor": 2
}